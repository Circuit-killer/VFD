{
 "metadata": {
  "name": "VFD"
 },
 "nbformat": 3,
 "nbformat_minor": 0,
 "worksheets": [
  {
   "cells": [
    {
     "cell_type": "code",
     "collapsed": false,
     "input": [
      "Vcesat = 2.6 #V\n",
      "Imax = 15 #A\n",
      "Pdissipated = Vcesat * Imax #W\n",
      "Pdissipadetmax = 78 #W\n",
      "\n",
      "print \"Dissipated power per leg:\", Pdissipated, \"W,\", \"per device:\",Pdissipated * 3, \"W\"\n",
      "\n",
      "Rthermal = 1.6#\u00b0C/W\n",
      "Tcase = 85 #\u00b0C\n",
      "Tjunction = Pdissipated * Rthermal + Tcase\n",
      "Tjunctionmax = 150 #\u00b0C\n",
      "print \"while keeping heatsink at\", Tcase, \"\u00b0C, Junction temperature at\", Tjunction, \"\u00b0C of \", Tjunctionmax, \"\u00b0C\" "
     ],
     "language": "python",
     "metadata": {},
     "outputs": [
      {
       "output_type": "stream",
       "stream": "stdout",
       "text": [
        "Dissipated power per leg: 39.0 W, per device: 117.0 W\n",
        "while keeping heatsink at 85 \u00b0C, Junction temperature at 147.4 \u00b0C of  150 \u00b0C\n"
       ]
      }
     ],
     "prompt_number": 15
    }
   ],
   "metadata": {}
  }
 ]
}